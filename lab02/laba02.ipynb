{
 "cells": [
  {
   "cell_type": "code",
   "execution_count": 9,
   "metadata": {},
   "outputs": [
    {
     "data": {
      "text/plain": [
       "spark = org.apache.spark.sql.SparkSession@11915afc\n",
       "path_users = /labs/laba02/autousers.json\n",
       "path_domains = /labs/laba02/logs\n",
       "userDf = [autousers: array<string>]\n",
       "users = [UID: string, Auto_flag: int]\n",
       "decoding = UserDefinedFunction(<function1>,StringType,Some(List(StringType)))\n",
       "domains = [UID: string, URL: string ... 1 more field]\n",
       "count_1 = 313527\n"
      ]
     },
     "metadata": {},
     "output_type": "display_data"
    },
    {
     "data": {
      "text/plain": [
       "result: Array[org.apache.spa...\n"
      ]
     },
     "metadata": {},
     "output_type": "display_data"
    },
    {
     "data": {
      "text/plain": [
       "313527"
      ]
     },
     "execution_count": 9,
     "metadata": {},
     "output_type": "execute_result"
    }
   ],
   "source": [
    "import org.apache.spark.sql.SparkSession\n",
    "import org.apache.spark.sql.functions._\n",
    "import org.apache.spark.sql.types._\n",
    "import java.io._\n",
    "import scala.util.Try\n",
    "import java.net.URLDecoder.decode\n",
    "\n",
    "val spark = SparkSession\n",
    "    .builder\n",
    "    .master(\"yarn\")\n",
    "    .appName(\"laba02_autousers_VasevVS\")\n",
    "    .getOrCreate\n",
    "\n",
    "val path_users = \"/labs/laba02/autousers.json\"\n",
    "val path_domains = \"/labs/laba02/logs\"\n",
    "\n",
    "val userDf = spark.read.json(path_users)\n",
    "val users = userDf\n",
    "      .select(\n",
    "        explode(col(\"autousers\"))\n",
    "        .as(\"UID\"), lit(1).alias(\"Auto_flag\"))\n",
    "\n",
    "val decoding = udf { (url: String) =>\n",
    "    Try(decode(url, \"UTF-8\")).toOption.getOrElse(\"No_host\")\n",
    "  }\n",
    "\n",
    "val domains = spark.read.options(Map(\"delimiter\"->\"\\t\")).csv(path_domains)\n",
    "    .select(col(\"_c0\").alias(\"UID\"), col(\"_c2\").alias(\"URL\"))\n",
    "    .filter(\"URL like 'http%'\")\n",
    "    .withColumn(\"URL\", decoding(col(\"URL\")))\n",
    "    .withColumn(\"URL\", regexp_replace(col(\"URL\"), \"(https://www.|http://www.|https://|http://|[/].*)\", \"\"))\n",
    "    .join(broadcast(users), Seq(\"UID\"), \"left\")\n",
    "    .cache()\n",
    "\n",
    "val count_1 = domains.filter(col(\"Auto_flag\").isNotNull).count()\n",
    "\n",
    "val result = domains\n",
    "    .groupBy(\"URL\")\n",
    "    .agg(((pow(sum(\"Auto_flag\"),2)/count(\"URL\")).cast(DecimalType(38,20))/count_1).cast(DecimalType(38,20)).alias(\"otiai\"))\n",
    "    .sort(col(\"otiai\").desc, col(\"URL\").asc)\n",
    "    .take(200)\n",
    "val pw = new PrintWriter(new FileOutputStream(new File(\"/data/home/vladimir.vasev/laba02_domains.txt\" ),true))\n",
    "  \n",
    "for (ans <- result){\n",
    "    pw.append(ans.mkString(\"\\t\") + \"\\n\")\n",
    "  }\n",
    "pw.close();\n"
   ]
  }
 ],
 "metadata": {
  "kernelspec": {
   "display_name": "Apache Toree - Scala",
   "language": "scala",
   "name": "apache_toree_scala"
  },
  "language_info": {
   "codemirror_mode": "text/x-scala",
   "file_extension": ".scala",
   "mimetype": "text/x-scala",
   "name": "scala",
   "pygments_lexer": "scala",
   "version": "2.11.12"
  }
 },
 "nbformat": 4,
 "nbformat_minor": 2
}
