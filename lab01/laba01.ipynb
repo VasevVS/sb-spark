{
 "cells": [
  {
   "cell_type": "code",
   "execution_count": 1,
   "metadata": {},
   "outputs": [],
   "source": [
    "import java.io._\n",
    "\n",
    "import scala.io.Source\n",
    "import org.json4s.jackson.JsonMethods._\n",
    "import org.json4s.JsonDSL.WithDouble._"
   ]
  },
  {
   "cell_type": "code",
   "execution_count": 2,
   "metadata": {},
   "outputs": [
    {
     "data": {
      "text/plain": [
       "path_for_your_data = u.data\n",
       "path_for_your_result = lab01.json\n",
       "movie_id = 191\n"
      ]
     },
     "metadata": {},
     "output_type": "display_data"
    },
    {
     "data": {
      "text/plain": [
       "191"
      ]
     },
     "execution_count": 2,
     "metadata": {},
     "output_type": "execute_result"
    }
   ],
   "source": [
    "val path_for_your_data = \"u.data\"\n",
    "val path_for_your_result = \"lab01.json\"\n",
    "val movie_id = \"191\"\n"
   ]
  },
  {
   "cell_type": "code",
   "execution_count": 4,
   "metadata": {},
   "outputs": [
    {
     "data": {
      "text/plain": [
       "read_file = empty iterator\n",
       "file_str = List(196\t242\t3\t881250949, 186\t302\t3\t891717742, 22\t377\t1\t878887116, 244\t51\t2\t880606923, 166\t346\t1\t886397596, 298\t474\t4\t884182806, 115\t265\t2\t881171488, 253\t465\t5\t891628467, 305\t451\t3\t886324817, 6\t86\t3\t883603013, 62\t257\t2\t879372434, 286\t1014\t5\t879781125, 200\t222\t5\t876042340, 210\t40\t3\t891035994, 224\t29\t3\t888104457, 303\t785\t3\t879485318, 122\t387\t5\t879270459, 194\t274\t2\t879539794, 291\t1042\t4\t874834944, 234\t1184\t2\t892079237, 119\t392\t4\t886176814, 167\t486\t4\t892738452, 299\t144\t4\t877881320, 291\t118\t2\t874833878, 308\t1\t4\t887736532, 95\t546\t2\t879196566, 38\t95\t5\t892430094, 102\t768\t2\t883748450, 63\t277\t4\t875747401, 160\t234\t5\t876861185, 50\t246\t3\t877052329, 301\t98\t4\t882075827, 225\t193\t4\t879539727, 290\t88\t4\t880731963, 97\t194\t3\t884238...\n"
      ]
     },
     "metadata": {},
     "output_type": "display_data"
    },
    {
     "data": {
      "text/plain": [
       "lastException: Throwable = null\n"
      ]
     },
     "metadata": {},
     "output_type": "display_data"
    },
    {
     "data": {
      "text/plain": [
       "List(196\t242\t3\t881250949, 186\t302\t3\t891717742, 22\t377\t1\t878887116, 244\t51\t2\t880606923, 166\t346\t1\t886397596, 298\t474\t4\t884182806, 115\t265\t2\t881171488, 253\t465\t5\t891628467, 305\t451\t3\t886324817, 6\t86\t3\t883603013, 62\t257\t2\t879372434, 286\t1014\t5\t879781125, 200\t222\t5\t876042340, 210\t40\t3\t891035994, 224\t29\t3\t888104457, 303\t785\t3\t879485318, 122\t387\t5\t879270459, 194\t274\t2\t879539794, 291\t1042\t4\t874834944, 234\t1184\t2\t892079237, 119\t392\t4\t886176814, 167\t486\t4\t892738452, 299\t144\t4\t877881320, 291\t118\t2\t874833878, 308\t1\t4\t887736532, 95\t546\t2\t879196566, 38\t95\t5\t892430094, 102\t768\t2\t883748450, 63\t277\t4\t875747401, 160\t234\t5\t876861185, 50\t246\t3\t877052329, 301\t98\t4\t882075827, 225\t193\t4\t879539727, 290\t88\t4\t880731963, 97\t194\t3\t884238..."
      ]
     },
     "execution_count": 4,
     "metadata": {},
     "output_type": "execute_result"
    }
   ],
   "source": [
    "val read_file = Source.fromFile(path_for_your_data)\n",
    "val file_str = read_file.mkString.split(\"\\n\").toList"
   ]
  },
  {
   "cell_type": "code",
   "execution_count": 5,
   "metadata": {},
   "outputs": [
    {
     "data": {
      "text/plain": [
       "movies = List(List(242, 3), List(302, 3), List(377, 1), List(51, 2), List(346, 1), List(474, 4), List(265, 2), List(465, 5), List(451, 3), List(86, 3), List(257, 2), List(1014, 5), List(222, 5), List(40, 3), List(29, 3), List(785, 3), List(387, 5), List(274, 2), List(1042, 4), List(1184, 2), List(392, 4), List(486, 4), List(144, 4), List(118, 2), List(1, 4), List(546, 2), List(95, 5), List(768, 2), List(277, 4), List(234, 5), List(246, 3), List(98, 4), List(193, 4), List(88, 4), List(194, 3), List(274, 4), List(1081, 1), List(603, 5), List(796, 1), List(32, 4), List(16, 4), List(304, 4), List(979, 2), List(564, 3), List(327, 5), List(201, 5), List(1137, 5), List(241, 5), List(4, 5), List(332, 3), List(100, 4), List(432, 2), List(322, 4), List(181, 5), List(196, 5), L...\n"
      ]
     },
     "metadata": {},
     "output_type": "display_data"
    },
    {
     "data": {
      "text/plain": [
       "List(List(242, 3), List(302, 3), List(377, 1), List(51, 2), List(346, 1), List(474, 4), List(265, 2), List(465, 5), List(451, 3), List(86, 3), List(257, 2), List(1014, 5), List(222, 5), List(40, 3), List(29, 3), List(785, 3), List(387, 5), List(274, 2), List(1042, 4), List(1184, 2), List(392, 4), List(486, 4), List(144, 4), List(118, 2), List(1, 4), List(546, 2), List(95, 5), List(768, 2), List(277, 4), List(234, 5), List(246, 3), List(98, 4), List(193, 4), List(88, 4), List(194, 3), List(274, 4), List(1081, 1), List(603, 5), List(796, 1), List(32, 4), List(16, 4), List(304, 4), List(979, 2), List(564, 3), List(327, 5), List(201, 5), List(1137, 5), List(241, 5), List(4, 5), List(332, 3), List(100, 4), List(432, 2), List(322, 4), List(181, 5), List(196, 5), L..."
      ]
     },
     "execution_count": 5,
     "metadata": {},
     "output_type": "execute_result"
    }
   ],
   "source": [
    "val movies = file_str.map(x => x.split(\"\\t\").toList).map(x => List(x(1), x(2)))"
   ]
  },
  {
   "cell_type": "code",
   "execution_count": 6,
   "metadata": {},
   "outputs": [
    {
     "data": {
      "text/plain": [
       "movies_group = Map((954,4) -> 4, (1462,3) -> 4, (878,5) -> 4, (931,3) -> 16, (683,1) -> 15, (1362,3) -> 1, (998,3) -> 5, (1114,2) -> 2, (151,2) -> 40, (125,2) -> 24, (1535,4) -> 2, (315,4) -> 67, (855,5) -> 16, (1265,2) -> 2, (211,2) -> 11, (579,3) -> 8, (1210,4) -> 9, (1217,3) -> 14, (108,2) -> 12, (1109,1) -> 1, (419,2) -> 17, (1367,2) -> 1, (89,1) -> 4, (756,5) -> 6, (1344,1) -> 1, (549,2) -> 8, (592,1) -> 1, (849,3) -> 18, (49,1) -> 2, (686,4) -> 17, (67,4) -> 34, (1172,2) -> 1, (585,5) -> 1, (428,4) -> 56, (3,5) -> 11, (986,1) -> 6, (491,4) -> 32, (1485,3) -> 2, (1265,5) -> 3, (161,3) -> 72, (464,1) -> 2, (381,2) -> 9, (598,2) -> 1, (32,4) -> 30, (1099,5) -> 4, (472,4) -> 33, (199,2) -> 3, (703,4) -> 9, (662,2) -> 10, (1036,3) -...\n"
      ]
     },
     "metadata": {},
     "output_type": "display_data"
    },
    {
     "data": {
      "text/plain": [
       "Map((954,4) -> 4, (1462,3) -> 4, (878,5) -> 4, (931,3) -> 16, (683,1) -> 15, (1362,3) -> 1, (998,3) -> 5, (1114,2) -> 2, (151,2) -> 40, (125,2) -> 24, (1535,4) -> 2, (315,4) -> 67, (855,5) -> 16, (1265,2) -> 2, (211,2) -> 11, (579,3) -> 8, (1210,4) -> 9, (1217,3) -> 14, (108,2) -> 12, (1109,1) -> 1, (419,2) -> 17, (1367,2) -> 1, (89,1) -> 4, (756,5) -> 6, (1344,1) -> 1, (549,2) -> 8, (592,1) -> 1, (849,3) -> 18, (49,1) -> 2, (686,4) -> 17, (67,4) -> 34, (1172,2) -> 1, (585,5) -> 1, (428,4) -> 56, (3,5) -> 11, (986,1) -> 6, (491,4) -> 32, (1485,3) -> 2, (1265,5) -> 3, (161,3) -> 72, (464,1) -> 2, (381,2) -> 9, (598,2) -> 1, (32,4) -> 30, (1099,5) -> 4, (472,4) -> 33, (199,2) -> 3, (703,4) -> 9, (662,2) -> 10, (1036,3) -..."
      ]
     },
     "execution_count": 6,
     "metadata": {},
     "output_type": "execute_result"
    }
   ],
   "source": [
    "val movies_group = movies.groupBy(x => (x.head,x(1))).mapValues(_.size)"
   ]
  },
  {
   "cell_type": "code",
   "execution_count": 7,
   "metadata": {},
   "outputs": [
    {
     "data": {
      "text/plain": [
       "ArrayBuffer(2, 6, 44, 117, 107)"
      ]
     },
     "execution_count": 7,
     "metadata": {},
     "output_type": "execute_result"
    }
   ],
   "source": [
    "val res1 = movies_group.filterKeys(x => x._1 == movie_id).toSeq.sortBy(_._1).map(x => x._2)"
   ]
  },
  {
   "cell_type": "code",
   "execution_count": 8,
   "metadata": {},
   "outputs": [
    {
     "data": {
      "text/plain": [
       "movies_group_all = Map(4 -> 34174, 5 -> 21201, 1 -> 6110, 2 -> 11370, 3 -> 27145)\n"
      ]
     },
     "metadata": {},
     "output_type": "display_data"
    },
    {
     "data": {
      "text/plain": [
       "Map(4 -> 34174, 5 -> 21201, 1 -> 6110, 2 -> 11370, 3 -> 27145)"
      ]
     },
     "execution_count": 8,
     "metadata": {},
     "output_type": "execute_result"
    }
   ],
   "source": [
    "val movies_group_all = movies.groupBy(x => x(1)).mapValues(_.size)"
   ]
  },
  {
   "cell_type": "code",
   "execution_count": 9,
   "metadata": {},
   "outputs": [
    {
     "data": {
      "text/plain": [
       "ArrayBuffer(6110, 11370, 27145, 34174, 21201)"
      ]
     },
     "execution_count": 9,
     "metadata": {},
     "output_type": "execute_result"
    }
   ],
   "source": [
    "\n",
    "val res2 = movies_group_all.toSeq.sortBy(_._1).map(x => x._2)\n",
    "\n"
   ]
  },
  {
   "cell_type": "code",
   "execution_count": 10,
   "metadata": {},
   "outputs": [
    {
     "data": {
      "text/plain": [
       "res_json = {\"hist_film\":[2,6,44,117,107],\"hist_all\":[6110,11370,27145,34174,21201]}\n"
      ]
     },
     "metadata": {},
     "output_type": "display_data"
    },
    {
     "data": {
      "text/plain": [
       "{\"hist_film\":[2,6,44,117,107],\"hist_all\":[6110,11370,27145,34174,21201]}"
      ]
     },
     "execution_count": 10,
     "metadata": {},
     "output_type": "execute_result"
    }
   ],
   "source": [
    "val res_json=compact(render( (\"hist_film\" -> res1.toList) ~ (\"hist_all\" -> res2.toList)))\n",
    "\n"
   ]
  },
  {
   "cell_type": "code",
   "execution_count": 11,
   "metadata": {},
   "outputs": [
    {
     "data": {
      "text/plain": [
       "pw = java.io.PrintWriter@691a374f\n"
      ]
     },
     "metadata": {},
     "output_type": "display_data"
    },
    {
     "data": {
      "text/plain": [
       "java.io.PrintWriter@691a374f"
      ]
     },
     "execution_count": 11,
     "metadata": {},
     "output_type": "execute_result"
    }
   ],
   "source": [
    "val pw = new PrintWriter(new File(path_for_your_result))\n",
    "pw.write(res_json)\n",
    "pw.close()\n"
   ]
  },
  {
   "cell_type": "code",
   "execution_count": 4,
   "metadata": {},
   "outputs": [
    {
     "data": {
      "text/plain": [
       "Name: Unknown Error\n",
       "Message: <console>:1: error: Invalid literal number\n",
       "!hdfs dfs -ls /labs/laba01/ml-100k\n",
       "                              ^\n",
       "\n",
       "StackTrace: "
      ]
     },
     "execution_count": 4,
     "metadata": {},
     "output_type": "execute_result"
    }
   ],
   "source": [
    "!hdfs dfs -ls /labs/laba01/ml-100k"
   ]
  },
  {
   "cell_type": "code",
   "execution_count": null,
   "metadata": {},
   "outputs": [],
   "source": []
  }
 ],
 "metadata": {
  "kernelspec": {
   "display_name": "Apache Toree - Scala",
   "language": "scala",
   "name": "apache_toree_scala"
  },
  "language_info": {
   "codemirror_mode": "text/x-scala",
   "file_extension": ".scala",
   "mimetype": "text/x-scala",
   "name": "scala",
   "pygments_lexer": "scala",
   "version": "2.11.12"
  }
 },
 "nbformat": 4,
 "nbformat_minor": 4
}
