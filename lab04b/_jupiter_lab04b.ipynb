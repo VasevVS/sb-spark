{
 "cells": [
  {
   "cell_type": "code",
   "execution_count": 5,
   "metadata": {},
   "outputs": [
    {
     "name": "stdout",
     "output_type": "stream",
     "text": [
      "Marking org.apache.spark:spark-sql-kafka-0-10_2.11:2.4.5 for download\n",
      "Obtained 2 files\n"
     ]
    },
    {
     "data": {
      "text/plain": [
       "Waiting for a Spark session to start..."
      ]
     },
     "metadata": {},
     "output_type": "display_data"
    },
    {
     "name": "stdout",
     "output_type": "stream",
     "text": [
      "Marking org.apache.kafka:kafka-clients:0.10.1.0 for download\n",
      "Obtained 2 files\n"
     ]
    },
    {
     "data": {
      "text/plain": [
       "Waiting for a Spark session to start..."
      ]
     },
     "metadata": {},
     "output_type": "display_data"
    }
   ],
   "source": [
    "%AddDeps org.apache.spark spark-sql-kafka-0-10_2.11 2.4.5 \n",
    "%AddDeps org.apache.kafka kafka-clients 0.10.1.0"
   ]
  },
  {
   "cell_type": "code",
   "execution_count": 2,
   "metadata": {},
   "outputs": [
    {
     "data": {
      "text/plain": [
       "defined class InputJson\n",
       "bootstrapServer = spark-master-1:6667\n",
       "bootstrapServer1 = 10.0.0.5:6667\n",
       "topicNameIn = vladimir_vasev\n",
       "topicNameOut = vladimir_vasev_lab04b_out\n",
       "schema = StructType(StructField(event_type,StringType,true), StructField(category,StringType,true), StructField(item_id,StringType,true), StructField(item_price,LongType,false), StructField(uid,StringType,true), StructField(timestamp,LongType,false))\n"
      ]
     },
     "metadata": {},
     "output_type": "display_data"
    },
    {
     "data": {
      "text/plain": [
       "error: error while loading QualifiedTableName, class file '/usr/hdp/3.1.4.0-315/spark2/jars/spark-catalyst_2.11-2.4.7.jar(org/apache/spark/sql/catalyst/QualifiedTableName.class)' has location not matching its contents: contains class QualifiedTableName\n",
       "error: error while loading JavaTypeInference, class file '/usr/hdp/3.1.4.0-315/spark2/jars/spark-catalyst_2.11-2.4.7.jar(org/apache/spark/sql/catalyst/JavaTypeInference.class)' has location not matching its contents: contains class JavaTypeInference\n",
       "error: error while loading FunctionIdentifier, class file '/usr/hdp/3.1.4.0-315/spark2/jars/spark-catalyst_2.11-2.4.7.jar(org/apache/spark/sql/catalyst/FunctionIdentifier.class)' has location not matching its contents: contains class FunctionIdentifier\n",
       "error: error while loading DefinedByConstructorParams, class file '/usr/hdp/3.1.4.0-315/spark2/jars/spark-catalyst_2.11-2.4.7.jar(org/apache/spark/sql/catalyst/DefinedByConstructorParams.class)' has location not matching its contents: contains trait DefinedByConstructorParams\n",
       "error: error while loading IdentifierWithDatabase, class file '/usr/hdp/3.1.4.0-315/spark2/jars/spark-catalyst_2.11-2.4.7.jar(org/apache/spark/sql/catalyst/IdentifierWithDatabase.class)' has location not matching its contents: contains class IdentifierWithDatabase\n",
       "error: error while loading SpecializedGetters, class file '/usr/hdp/3.1.4.0-315/spark2/jars/spark-catalyst_2.11-2.4.7.jar(org/apache/spark/sql/catalyst/expressions/SpecializedGetters.class)' has location not matching its contents: contains class SpecializedGetters\n",
       "error: error while loading Decimal, class file '/usr/hdp/3.1.4.0-315/spark2/jars/spark-catalyst_2.11-2.4.7.jar(org/apache/spark/sql/types/Decimal.class)' has location not matching its contents: contains class Decimal\n",
       "error: error while loading ObjectType, class file '/usr/hdp/3.1.4.0-315/spark2/jars/spark-catalyst_2.11-2.4.7.jar(org/apache/spark/sql/types/ObjectType.class)' has location not matching its contents: contains class ObjectType\n",
       "error: error while loading Expression, class file '/usr/hdp/3.1.4.0-315/spark2/jars/spark-catalyst_2.11-2.4.7.jar(org/apache/spark/sql/catalyst/expressions/Expression.class)' has location not matching its contents: contains class Expression\n",
       "error: error while loading CreateNamedStruct, class file '/usr/hdp/3.1.4.0-315/spark2/jars/spark-catalyst_2.11-2.4.7.jar(org/apache/spark/sql/catalyst/expressions/CreateNamedStruct.class)' has location not matching its contents: contains class CreateNamedStruct\n",
       "error: error while loading Attribute, class file '/usr/hdp/3.1.4.0-315/spark2/jars/spark-catalyst_2.11-2.4.7.jar(org/apache/spark/sql/catalyst/expressions/Attribute.class)' has location not matching its contents: contains class Attribute\n",
       "error: error while loading AliasIdentifier, class file '/usr/hdp/3.1.4.0-315/spark2/jars/spark-catalyst_2.11-2.4.7.jar(org/apache/spark/sql/catalyst/AliasIdentifier.class)' has location not matching its contents: contains class AliasIdentifier\n",
       "error: error while loading CatalystTypeConverters, class file '/usr/hdp/3.1.4.0-315/spark2/jars/spark-catalyst_2.11-2.4.7.jar(org/apache/spark/sql/catalyst/CatalystTypeConverters.class)' has location not matching its contents: contains class CatalystTypeConverters\n",
       "error: error while loading ScalaSubtypeLock, class file '/usr/hdp/3.1.4.0-315/spark2/jars/spark-catalyst_2.11-2.4.7.jar(org/apache/spark/sql/catalyst/ScalaSubtypeLock.class)' has location not matching its contents: contains class ScalaSubtypeLock\n",
       "error: error while loading package, class file '/usr/hdp/3.1.4.0-315/spark2/jars/spark-catalyst_2.11-2.4.7.jar(org/apache/spark/sql/catalyst/dsl/package.class)' has location not matching its contents: contains package object dsl\n",
       "error: error while loading package, class file '/usr/hdp/3.1.4.0-315/spark2/jars/spark-catalyst_2.11-2.4.7.jar(org/apache/spark/sql/catalyst/util/package.class)' has location not matching its contents: contains package object util\n",
       "error: error while loading package, class file '/usr/hdp/3.1.4.0-315/spark2/jars/spark-catalyst_2.11-2.4.7.jar(org/apache/spark/sql/catalyst/errors/package.class)' has location not matching its contents: contains package object errors\n",
       "error: error while loading package, class file '/usr/hdp/3.1.4.0-315/spark2/jars/spark-catalyst_2.11-2.4.7.jar(org/apache/spark/sql/catalyst/trees/package.class)' has location not matching its contents: contains package object trees\n",
       "error: error while loading MarkerFactory, class file '/usr/hdp/3.1.4.0-315/spark2/jars/slf4j-api-1.7.16.jar(org/slf4j/MarkerFactory.class)' has location not matching its contents: contains class MarkerFactory\n",
       "error: error while loading ILoggerFactory, class file '/usr/hdp/3.1.4.0-315/spark2/jars/slf4j-api-1.7.16.jar(org/slf4j/ILoggerFactory.class)' has location not matching its contents: contains class ILoggerFactory\n",
       "error: error while loading MDC, class file '/usr/hdp/3.1.4.0-315/spark2/jars/slf4j-api-1.7.16.jar(org/slf4j/MDC.class)' has location not matching its contents: contains class MDC\n",
       "error: error while loading LoggerFactory, class file '/usr/hdp/3.1.4.0-315/spark2/jars/slf4j-api-1.7.16.jar(org/slf4j/LoggerFactory.class)' has location not matching its contents: contains class LoggerFactory\n",
       "error: error while loading Marker, class file '/usr/hdp/3.1.4.0-315/spark2/jars/slf4j-api-1.7.16.jar(org/slf4j/Marker.class)' has location not matching its contents: contains class Marker\n",
       "error: error while loading IMarkerFactory, class file '/usr/hdp/3.1.4.0-315/spark2/jars/slf4j-api-1.7.16.jar(org/slf4j/IMarkerFactory.class)' has location not matching its contents: contains class IMarkerFactory\n",
       "error: error while loading NDC, class file '/usr/hdp/3.1.4.0-315/spark2/jars/apache-log4j-extras-1.2.17.jar(org/apache/log4j/NDC.class)' has location not matching its contents: contains class NDC\n",
       "error: error while loading SortedKeyEnumeration, class file '/usr/hdp/3.1.4.0-315/spark2/jars/apache-log4j-extras-1.2.17.jar(org/apache/log4j/SortedKeyEnumeration.class)' has location not matching its contents: contains class SortedKeyEnumeration\n",
       "error: error while loading Hierarchy, class file '/usr/hdp/3.1.4.0-315/spark2/jars/apache-log4j-extras-1.2.17.jar(org/apache/log4j/Hierarchy.class)' has location not matching its contents: contains class Hierarchy\n",
       "error: error while loading SimpleLayout, class file '/usr/hdp/3.1.4.0-315/spark2/jars/apache-log4j-extras-1.2.17.jar(org/apache/log4j/SimpleLayout.class)' has location not matching its contents: contains class SimpleLayout\n",
       "error: error while loading PatternLayout, class file '/usr/hdp/3.1.4.0-315/spark2/jars/apache-log4j-extras-1.2.17.jar(org/apache/log4j/PatternLayout.class)' has location not matching its contents: contains class PatternLayout\n",
       "error: error while loading LogSF, class file '/usr/hdp/3.1.4.0-315/spark2/jars/apache-log4j-extras-1.2.17.jar(org/apache/log4j/LogSF.class)' has location not matching its contents: contains class LogSF\n",
       "error: error while loading ProvisionNode, class file '/usr/hdp/3.1.4.0-315/spark2/jars/apache-log4j-extras-1.2.17.jar(org/apache/log4j/ProvisionNode.class)' has location not matching its contents: contains class ProvisionNode\n",
       "error: error while loading Appender, class file '/usr/hdp/3.1.4.0-315/spark2/jars/apache-log4j-extras-1.2.17.jar(org/apache/log4j/Appender.class)' has location not matching its contents: contains class Appender\n",
       "error: error while loading Category, class file '/usr/hdp/3.1.4.0-315/spark2/jars/apache-log4j-extras-1.2.17.jar(org/apache/log4j/Category.class)' has location not matching its contents: contains class Category\n",
       "error: error while loading RollingFileAppender, class file '/usr/hdp/3.1.4.0-315/spark2/jars/apache-log4j-extras-1.2.17.jar(org/apache/log4j/RollingFileAppender.class)' has location not matching its contents: contains class RollingFileAppender\n",
       "error: error while loading WriterAppender, class file '/usr/hdp/3.1.4.0-315/spark2/jars/apache-log4j-extras-1.2.17.jar(org/apache/log4j/WriterAppender.class)' has location not matching its contents: contains class WriterAppender\n",
       "error: error while loading HTMLLayout, class file '/usr/hdp/3.1.4.0-315/spark2/jars/apache-log4j-extras-1.2.17.jar(org/apache/log4j/HTMLLayout.class)' has location not matching its contents: contains class HTMLLayout\n",
       "error: error while loading EnhancedPatternLayout, class file '/usr/hdp/3.1.4.0-315/spark2/jars/apache-log4j-extras-1.2.17.jar(org/apache/log4j/EnhancedPatternLayout.class)' has location not matching its contents: contains class EnhancedPatternLayout\n",
       "error: error while loading DailyRollingFileAppender, class file '/usr/hdp/3.1.4.0-315/spark2/jars/apache-log4j-extras-1.2.17.jar(org/apache/log4j/DailyRollingFileAppender.class)' has location not matching its contents: contains class DailyRollingFileAppender\n",
       "error: error while loading FileAppender, class file '/usr/hdp/3.1.4.0-315/spark2/jars/apache-log4j-extras-1.2.17.jar(org/apache/log4j/FileAppender.class)' has location not matching its contents: contains class FileAppender\n",
       "error: error while loading Dispatcher, class file '/usr/hdp/3.1.4.0-315/spark2/jars/apache-log4j-extras-1.2.17.jar(org/apache/log4j/Dispatcher.class)' has location not matching its contents: contains class Dispatcher\n",
       "error: error while loading DefaultCategoryFactory, class file '/usr/hdp/3.1.4.0-315/spark2/jars/apache-log4j-extras-1.2.17.jar(org/apache/log4j/DefaultCategoryFactory.class)' has location not matching its contents: contains class DefaultCategoryFactory\n",
       "error: error while loading MDC, class file '/usr/hdp/3.1.4.0-315/spark2/jars/apache-log4j-extras-1.2.17.jar(org/apache/log4j/MDC.class)' has location not matching its contents: contains class MDC\n",
       "error: error while loading Priority, class file '/usr/hdp/3.1.4.0-315/spark2/jars/apache-log4j-extras-1.2.17.jar(org/apache/log4j/Priority.class)' has location not matching its contents: contains class Priority\n",
       "error: error while loading DefaultThrowableRenderer, class file '/usr/hdp/3.1.4.0-315/spark2/jars/apache-log4j-extras-1.2.17.jar(org/apache/log4j/DefaultThrowableRenderer.class)' has location not matching its contents: contains class DefaultThrowableRenderer\n",
       "error: error while loading DBAppender, class file '/usr/hdp/3.1.4.0-315/spark2/jars/apache-log4j-extras-1.2.17.jar(org/apache/log4j/DBAppender.class)' has location not matching its contents: contains class DBAppender\n",
       "error: error while loading LogMF, class file '/usr/hdp/3.1.4.0-315/spark2/jars/apache-log4j-extras-1.2.17.jar(org/apache/log4j/LogMF.class)' has location not matching its contents: contains class LogMF\n",
       "error: error while loading PropertyConfigurator, class file '/usr/hdp/3.1.4.0-315/spark2/jars/apache-log4j-extras-1.2.17.jar(org/apache/log4j/PropertyConfigurator.class)' has location not matching its contents: contains class PropertyConfigurator\n",
       "error: error while loading LoggerRepositoryExImpl, class file '/usr/hdp/3.1.4.0-315/spark2/jars/apache-log4j-extras-1.2.17.jar(org/apache/log4j/LoggerRepositoryExImpl.class)' has location not matching its contents: contains class LoggerRepositoryExImpl\n",
       "error: error while loading PropertyWatchdog, class file '/usr/hdp/3.1.4.0-315/spark2/jars/apache-log4j-extras-1.2.17.jar(org/apache/log4j/PropertyWatchdog.class)' has location not matching its contents: contains class PropertyWatchdog\n",
       "error: error while loading EnhancedThrowableRenderer, class file '/usr/hdp/3.1.4.0-315/spark2/jars/apache-log4j-extras-1.2.17.jar(org/apache/log4j/EnhancedThrowableRenderer.class)' has location not matching its contents: contains class EnhancedThrowableRenderer\n",
       "error: error while loading BasicConfigurator, class file '/usr/hdp/3.1.4.0-315/spark2/jars/apache-log4j-extras-1.2.17.jar(org/apache/log4j/BasicConfigurator.class)' has location not matching its contents: contains class BasicConfigurator\n",
       "error: error while loading AppenderSkeleton, class file '/usr/hdp/3.1.4.0-315/spark2/jars/apache-log4j-extras-1.2.17.jar(org/apache/log4j/AppenderSkeleton.class)' has location not matching its contents: contains class AppenderSkeleton\n",
       "error: error while loading Logger, class file '/usr/hdp/3.1.4.0-315/spark2/jars/apache-log4j-extras-1.2.17.jar(org/apache/log4j/Logger.class)' has location not matching its contents: contains class Logger\n",
       "error: error while loading Level, class file '/usr/hdp/3.1.4.0-315/spark2/jars/apache-log4j-extras-1.2.17.jar(org/apache/log4j/Level.class)' has location not matching its contents: contains class Level\n",
       "error: error while loading LogManager, class file '/usr/hdp/3.1.4.0-315/spark2/jars/apache-log4j-extras-1.2.17.jar(org/apache/log4j/LogManager.class)' has location not matching its contents: contains class LogManager\n",
       "error: error while loading RollingCalendar, class file '/usr/hdp/3.1.4.0-315/spark2/jars/apache-log4j-extras-1.2.17.jar(org/apache/log4j/RollingCalendar.class)' has location not matching its contents: contains class RollingCalendar\n",
       "error: error while loading LogXF, class file '/usr/hdp/3.1.4.0-315/spark2/jars/apache-log4j-extras-1.2.17.jar(org/apache/log4j/LogXF.class)' has location not matching its contents: contains class LogXF\n",
       "error: error while loading TTCCLayout, class file '/usr/hdp/3.1.4.0-315/spark2/jars/apache-log4j-extras-1.2.17.jar(org/apache/log4j/TTCCLayout.class)' has location not matching its contents: contains class TTCCLayout\n",
       "error: error while loading NameValue, class file '/usr/hdp/3.1.4.0-315/spark2/jars/apache-log4j-extras-1.2.17.jar(org/apache/log4j/NameValue.class)' has location not matching its contents: contains class NameValue\n",
       "error: error while loading CategoryKey, class file '/usr/hdp/3.1.4.0-315/spark2/jars/apache-log4j-extras-1.2.17.jar(org/apache/log4j/CategoryKey.class)' has location not matching its contents: contains class CategoryKey\n",
       "error: error while loading Layout, class file '/usr/hdp/3.1.4.0-315/spark2/jars/apache-log4j-extras-1.2.17.jar(org/apache/log4j/Layout.class)' has location not matching its contents: contains class Layout\n",
       "error: error while loading ConsoleAppender, class file '/usr/hdp/3.1.4.0-315/spark2/jars/apache-log4j-extras-1.2.17.jar(org/apache/log4j/ConsoleAppender.class)' has location not matching its contents: contains class ConsoleAppender\n",
       "error: error while loading AsyncAppender, class file '/usr/hdp/3.1.4.0-315/spark2/jars/apache-log4j-extras-1.2.17.jar(org/apache/log4j/AsyncAppender.class)' has location not matching its contents: contains class AsyncAppender\n",
       "error: error while loading ByteType, class file '/usr/hdp/3.1.4.0-315/spark2/jars/spark-catalyst_2.11-2.4.7.jar(org/apache/spark/sql/types/ByteType.class)' has location not matching its contents: contains class ByteType\n",
       "error: error while loading PythonUserDefinedType, class file '/usr/hdp/3.1.4.0-315/spark2/jars/spark-catalyst_2.11-2.4.7.jar(org/apache/spark/sql/types/PythonUserDefinedType.class)' has location not matching its contents: contains class PythonUserDefinedType\n",
       "error: error while loading Metadata, class file '/usr/hdp/3.1.4.0-315/spark2/jars/spark-catalyst_2.11-2.4.7.jar(org/apache/spark/sql/types/Metadata.class)' has location not matching its contents: contains class Metadata\n",
       "error: error while loading UserDefinedType, class file '/usr/hdp/3.1.4.0-315/spark2/jars/spark-catalyst_2.11-2.4.7.jar(org/apache/spark/sql/types/UserDefinedType.class)' has location not matching its contents: contains class UserDefinedType\n",
       "error: error while loading LongType, class file '/usr/hdp/3.1.4.0-315/spark2/jars/spark-catalyst_2.11-2.4.7.jar(org/apache/spark/sql/types/LongType.class)' has location not matching its contents: contains class LongType\n",
       "error: error while loading DataTypes, class file '/usr/hdp/3.1.4.0-315/spark2/jars/spark-catalyst_2.11-2.4.7.jar(org/apache/spark/sql/types/DataTypes.class)' has location not matching its contents: contains class DataTypes\n",
       "error: error while loading NumericType, class file '/usr/hdp/3.1.4.0-315/spark2/jars/spark-catalyst_2.11-2.4.7.jar(org/apache/spark/sql/types/NumericType.class)' has location not matching its contents: contains class NumericType\n",
       "error: error while loading StructField, class file '/usr/hdp/3.1.4.0-315/spark2/jars/spark-catalyst_2.11-2.4.7.jar(org/apache/spark/sql/types/StructField.class)' has location not matching its contents: contains class StructField\n",
       "error: error while loading MetadataBuilder, class file '/usr/hdp/3.1.4.0-315/spark2/jars/spark-catalyst_2.11-2.4.7.jar(org/apache/spark/sql/types/MetadataBuilder.class)' has location not matching its contents: contains class MetadataBuilder\n",
       "error: error while loading FractionalType, class file '/usr/hdp/3.1.4.0-315/spark2/jars/spark-catalyst_2.11-2.4.7.jar(org/apache/spark/sql/types/FractionalType.class)' has location not matching its contents: contains class FractionalType\n",
       "error: error while loading TypeCollection, class file '/usr/hdp/3.1.4.0-315/spark2/jars/spark-catalyst_2.11-2.4.7.jar(org/apache/spark/sql/types/TypeCollection.class)' has location not matching its contents: contains class TypeCollection\n",
       "error: error while loading DoubleType, class file '/usr/hdp/3.1.4.0-315/spark2/jars/spark-catalyst_2.11-2.4.7.jar(org/apache/spark/sql/types/DoubleType.class)' has location not matching its contents: contains class DoubleType\n",
       "error: error while loading AnyDataType, class file '/usr/hdp/3.1.4.0-315/spark2/jars/spark-catalyst_2.11-2.4.7.jar(org/apache/spark/sql/types/AnyDataType.class)' has location not matching its contents: contains class AnyDataType\n",
       "error: error while loading StringType, class file '/usr/hdp/3.1.4.0-315/spark2/jars/spark-catalyst_2.11-2.4.7.jar(org/apache/spark/sql/types/StringType.class)' has location not matching its contents: contains class StringType\n",
       "error: error while loading NullType, class file '/usr/hdp/3.1.4.0-315/spark2/jars/spark-catalyst_2.11-2.4.7.jar(org/apache/spark/sql/types/NullType.class)' has location not matching its contents: contains class NullType\n",
       "error: error while loading ShortType, class file '/usr/hdp/3.1.4.0-315/spark2/jars/spark-catalyst_2.11-2.4.7.jar(org/apache/spark/sql/types/ShortType.class)' has location not matching its contents: contains class ShortType\n",
       "error: error while loading IntegralType, class file '/usr/hdp/3.1.4.0-315/spark2/jars/spark-catalyst_2.11-2.4.7.jar(org/apache/spark/sql/types/IntegralType.class)' has location not matching its contents: contains class IntegralType\n",
       "error: error while loading AbstractDataType, class file '/usr/hdp/3.1.4.0-315/spark2/jars/spark-catalyst_2.11-2.4.7.jar(org/apache/spark/sql/types/AbstractDataType.class)' has location not matching its contents: contains class AbstractDataType\n",
       "error: error while loading InterpretedOrdering, class file '/usr/hdp/3.1.4.0-315/spark2/jars/spark-catalyst_2.11-2.4.7.jar(org/apache/spark/sql/catalyst/expressions/InterpretedOrdering.class)' has location not matching its contents: contains class InterpretedOrdering\n",
       "error: error while loading HiveStringType, class file '/usr/hdp/3.1.4.0-315/spark2/jars/spark-catalyst_2.11-2.4.7.jar(org/apache/spark/sql/types/HiveStringType.class)' has location not matching its contents: contains class HiveStringType\n",
       "error: error while loading ArrayType, class file '/usr/hdp/3.1.4.0-315/spark2/jars/spark-catalyst_2.11-2.4.7.jar(org/apache/spark/sql/types/ArrayType.class)' has location not matching its contents: contains class ArrayType\n",
       "error: error while loading BinaryType, class file '/usr/hdp/3.1.4.0-315/spark2/jars/spark-catalyst_2.11-2.4.7.jar(org/apache/spark/sql/types/BinaryType.class)' has location not matching its contents: contains class BinaryType\n",
       "error: error while loading TimestampType, class file '/usr/hdp/3.1.4.0-315/spark2/jars/spark-catalyst_2.11-2.4.7.jar(org/apache/spark/sql/types/TimestampType.class)' has location not matching its contents: contains class TimestampType\n",
       "error: error while loading BooleanType, class file '/usr/hdp/3.1.4.0-315/spark2/jars/spark-catalyst_2.11-2.4.7.jar(org/apache/spark/sql/types/BooleanType.class)' has location not matching its contents: contains class BooleanType\n",
       "error: error while loading IntegerType, class file '/usr/hdp/3.1.4.0-315/spark2/jars/spark-catalyst_2.11-2.4.7.jar(org/apache/spark/sql/types/IntegerType.class)' has location not matching its contents: contains class IntegerType\n",
       "error: error while loading DecimalType, class file '/usr/hdp/3.1.4.0-315/spark2/jars/spark-catalyst_2.11-2.4.7.jar(org/apache/spark/sql/types/DecimalType.class)' has location not matching its contents: contains class DecimalType\n",
       "error: error while loading SQLUserDefinedType, class file '/usr/hdp/3.1.4.0-315/spark2/jars/spark-catalyst_2.11-2.4.7.jar(org/apache/spark/sql/types/SQLUserDefinedType.class)' has location not matching its contents: contains class SQLUserDefinedType\n",
       "error: error while loading CalendarIntervalType, class file '/usr/hdp/3.1.4.0-315/spark2/jars/spark-catalyst_2.11-2.4.7.jar(org/apache/spark/sql/types/CalendarIntervalType.class)' has location not matching its contents: contains class CalendarIntervalType\n",
       "error: error while loading FloatType, class file '/usr/hdp/3.1.4.0-315/spark2/jars/spark-catalyst_2.11-2.4.7.jar(org/apache/spark/sql/types/FloatType.class)' has location not matching its contents: contains class FloatType\n",
       "error: error while loading CharType, class file '/usr/hdp/3.1.4.0-315/spark2/jars/spark-catalyst_2.11-2.4.7.jar(org/apache/spark/sql/types/CharType.class)' has location not matching its contents: contains class CharType\n",
       "error: error while loading MapType, class file '/usr/hdp/3.1.4.0-315/spark2/jars/spark-catalyst_2.11-2.4.7.jar(org/apache/spark/sql/types/MapType.class)' has location not matching its contents: contains class MapType\n",
       "error: error while loading DateType, class file '/usr/hdp/3.1.4.0-315/spark2/jars/spark-catalyst_2.11-2.4.7.jar(org/apache/spark/sql/types/DateType.class)' has location not matching its contents: contains class DateType\n",
       "error: error while loading AtomicType, class file '/usr/hdp/3.1.4.0-315/spark2/jars/spark-catalyst_2.11-2.4.7.jar(org/apache/spark/sql/types/AtomicType.class)' has location not matching its contents: contains class AtomicType\n",
       "error: error while loading VarcharType, class file '/usr/hdp/3.1.4.0-315/spark2/jars/spark-catalyst_2.11-2.4.7.jar(org/apache/spark/sql/types/VarcharType.class)' has location not matching its contents: contains class VarcharType\n",
       "error: error while loading UDTRegistration, class file '/usr/hdp/3.1.4.0-315/spark2/jars/spark-catalyst_2.11-2.4.7.jar(org/apache/spark/sql/types/UDTRegistration.class)' has location not matching its contents: contains class UDTRegistration\n",
       "dfStream...\n"
      ]
     },
     "metadata": {},
     "output_type": "display_data"
    },
    {
     "data": {
      "text/plain": [
       "StructType(StructField(event_type,StringType,true), StructField(category,StringType,true), StructField(item_id,StringType,true), StructField(item_price,LongType,false), StructField(uid,StringType,true), StructField(timestamp,LongType,false))"
      ]
     },
     "execution_count": 2,
     "metadata": {},
     "output_type": "execute_result"
    }
   ],
   "source": [
    "import org.apache.spark.sql.SparkSession\n",
    "import org.apache.spark.sql.catalyst.ScalaReflection\n",
    "import org.apache.spark.sql.types.StructType\n",
    "import org.apache.spark.sql.functions.{from_json, window, sum, count, min, max, when, to_json,struct}\n",
    "import org.apache.spark.sql.streaming.{OutputMode, Trigger}\n",
    "\n",
    "case class InputJson(event_type: String, category: String,\n",
    "                       item_id: String, item_price: Long,\n",
    "                       uid: String, timestamp: Long)\n",
    "\n",
    "\n",
    "  val bootstrapServer = \"spark-master-1:6667\"\n",
    "  val bootstrapServer1 = \"10.0.0.5:6667\"\n",
    "  val topicNameIn = \"vladimir_vasev\"\n",
    "  val topicNameOut = \"vladimir_vasev_lab04b_out\"\n",
    "\n",
    "  val schema = ScalaReflection.schemaFor[InputJson].dataType.asInstanceOf[StructType]\n",
    "\n",
    "  val dfStream = spark.readStream.\n",
    "    format(\"kafka\").\n",
    "    option(\"kafka.bootstrap.servers\", bootstrapServer).\n",
    "    option(\"subscribe\", topicNameIn).\n",
    "    load()\n",
    " "
   ]
  },
  {
   "cell_type": "code",
   "execution_count": 3,
   "metadata": {},
   "outputs": [
    {
     "data": {
      "text/plain": [
       "dfAgg = [start_ts: bigint, end_ts: bigint ... 4 more fields]\n"
      ]
     },
     "metadata": {},
     "output_type": "display_data"
    },
    {
     "data": {
      "text/plain": [
       "warning: there was one feature warning; re-run with -feature for details\n"
      ]
     },
     "metadata": {},
     "output_type": "display_data"
    },
    {
     "data": {
      "text/plain": [
       "[start_ts: bigint, end_ts: bigint ... 4 more fields]"
      ]
     },
     "execution_count": 3,
     "metadata": {},
     "output_type": "execute_result"
    }
   ],
   "source": [
    "val dfAgg = dfStream.select(from_json($\"value\" cast \"string\", schema) as \"record\").\n",
    "    select($\"record.*\").groupBy(window(($\"timestamp\" / 1000).\n",
    "    cast(\"timestamp\"), \"1 hour\")).agg(\n",
    "    min(\"window.start\").cast(\"long\") as \"start_ts\",\n",
    "    max(\"window.end\").cast(\"long\") as \"end_ts\",\n",
    "    sum(when($\"event_type\" === \"buy\", $\"item_price\")) as \"revenue\",\n",
    "    count(when($\"uid\" isNotNull, $\"event_type\")) as \"visitors\",\n",
    "    count(when($\"event_type\" === \"buy\", $\"event_type\")) as \"purchases\").\n",
    "    withColumn(\"aov\", $\"revenue\" / $\"purchases\").drop(\"window\")"
   ]
  },
  {
   "cell_type": "code",
   "execution_count": 4,
   "metadata": {},
   "outputs": [
    {
     "data": {
      "text/plain": [
       "Name: java.lang.InterruptedException\n",
       "Message: null\n",
       "StackTrace:   at java.util.concurrent.locks.AbstractQueuedSynchronizer.doAcquireSharedInterruptibly(AbstractQueuedSynchronizer.java:998)\n",
       "  at java.util.concurrent.locks.AbstractQueuedSynchronizer.acquireSharedInterruptibly(AbstractQueuedSynchronizer.java:1304)\n",
       "  at java.util.concurrent.CountDownLatch.await(CountDownLatch.java:231)\n",
       "  at org.apache.spark.sql.execution.streaming.StreamExecution.awaitTermination(StreamExecution.scala:469)\n",
       "  at org.apache.spark.sql.execution.streaming.StreamingQueryWrapper.awaitTermination(StreamingQueryWrapper.scala:53)"
      ]
     },
     "execution_count": 4,
     "metadata": {},
     "output_type": "execute_result"
    }
   ],
   "source": [
    " dfAgg.select(to_json(struct(\"*\")) as \"value\").writeStream.\n",
    "    format(\"kafka\").\n",
    "    option(\"kafka.bootstrap.servers\", bootstrapServer).\n",
    "    option(\"topic\", topicNameOut).\n",
    "    option(\"checkpointLocation\", \"checkpointdir\").\n",
    "    outputMode(OutputMode.Update()).\n",
    "    trigger(Trigger.ProcessingTime(5000)).\n",
    "    start().awaitTermination()"
   ]
  },
  {
   "cell_type": "code",
   "execution_count": 5,
   "metadata": {},
   "outputs": [
    {
     "data": {
      "text/plain": [
       "lastException: Throwable = null\n"
      ]
     },
     "metadata": {},
     "output_type": "display_data"
    },
    {
     "data": {
      "text/plain": [
       "Waiting for a Spark session to start..."
      ]
     },
     "metadata": {},
     "output_type": "display_data"
    }
   ],
   "source": [
    "spark.stop"
   ]
  },
  {
   "cell_type": "code",
   "execution_count": null,
   "metadata": {},
   "outputs": [],
   "source": []
  }
 ],
 "metadata": {
  "kernelspec": {
   "display_name": "Apache Toree - Scala",
   "language": "scala",
   "name": "apache_toree_scala"
  },
  "language_info": {
   "codemirror_mode": "text/x-scala",
   "file_extension": ".scala",
   "mimetype": "text/x-scala",
   "name": "scala",
   "pygments_lexer": "scala",
   "version": "2.11.12"
  }
 },
 "nbformat": 4,
 "nbformat_minor": 2
}
